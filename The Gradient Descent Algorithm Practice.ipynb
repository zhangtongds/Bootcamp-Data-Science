{
 "cells": [
  {
   "cell_type": "code",
   "execution_count": null,
   "metadata": {
    "collapsed": true
   },
   "outputs": [],
   "source": [
    "for iter in range(stop):\n",
    "    # Take a step, assigning the results of our step function to feed into\n",
    "    # the next step.\n",
    "    alpha, beta = step(alpha, beta, learning_rate, x, y)\n",
    "    \n",
    "    # Calculate the error.\n",
    "    \n",
    "    error = LR_cost_function(alpha, beta, x, y)\n",
    "    if iter == 0:\n",
    "        error_last = 0\n",
    "       \n",
    "    else:\n",
    "        if error_last - error <0.001:\n",
    "            break\n",
    "    error_last = error\n",
    "#     Store the error to instpect later.\n",
    "    all_error.append(error)"
   ]
  },
  {
   "cell_type": "code",
   "execution_count": null,
   "metadata": {
    "collapsed": true
   },
   "outputs": [],
   "source": [
    "def LR_cost_function(alpha,beta,x,y)\n",
    "    n = len(x)\n",
    "    error = 0\n",
    "    for i in range(n):\n",
    "        point_error = y[i]-(alpha-beta*x[i]**2)\n",
    "        error += point_error\n",
    "    return error/n\n",
    "                            \n",
    "                            \n",
    "                            \n",
    "def step (alpha, beta, x, y)\n",
    "    for i in range(n):\n",
    "        gradient_alpha = -(2/n)*(y[i] - (alpha+beta*x[i])\n",
    "        alpha += gradient_alpha\n",
    "        gradient_beta = -(2/n)*x[i]*(y[i] - (alpha+beta*x[i])\n",
    "        beta += gradient_beta\n",
    "    return alpha_new, beta_new"
   ]
  }
 ],
 "metadata": {
  "kernelspec": {
   "display_name": "Python 3",
   "language": "python",
   "name": "python3"
  },
  "language_info": {
   "codemirror_mode": {
    "name": "ipython",
    "version": 3
   },
   "file_extension": ".py",
   "mimetype": "text/x-python",
   "name": "python",
   "nbconvert_exporter": "python",
   "pygments_lexer": "ipython3",
   "version": "3.6.1"
  }
 },
 "nbformat": 4,
 "nbformat_minor": 2
}
