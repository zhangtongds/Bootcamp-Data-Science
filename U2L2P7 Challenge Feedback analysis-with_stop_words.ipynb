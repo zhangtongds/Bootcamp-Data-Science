{
 "cells": [
  {
   "cell_type": "code",
   "execution_count": 109,
   "metadata": {},
   "outputs": [
    {
     "name": "stdout",
     "output_type": "stream",
     "text": [
      "0      So there is no way for me to plug it in here i...\n",
      "1                            Good case, Excellent value.\n",
      "2                                 Great for the jawbone.\n",
      "3      Tied to charger for conversations lasting more...\n",
      "4                                      The mic is great.\n",
      "5      I have to jiggle the plug to get it to line up...\n",
      "6      If you have several dozen or several hundred c...\n",
      "7            If you are Razr owner...you must have this!\n",
      "8                    Needless to say, I wasted my money.\n",
      "9                       What a waste of money and time!.\n",
      "10                       And the sound quality is great.\n",
      "11     He was very impressed when going from the orig...\n",
      "12     If the two were seperated by a mere 5+ ft I st...\n",
      "13                              Very good quality though\n",
      "14     The design is very odd, as the ear \"clip\" is n...\n",
      "15     Highly recommend for any one who has a blue to...\n",
      "16                   I advise EVERYONE DO NOT BE FOOLED!\n",
      "17                                      So Far So Good!.\n",
      "18                                         Works great!.\n",
      "19     It clicks into place in a way that makes you w...\n",
      "20     I went on Motorola's website and followed all ...\n",
      "21     I bought this to use with my Kindle Fire and a...\n",
      "22              The commercials are the most misleading.\n",
      "23     I have yet to run this new battery below two b...\n",
      "24     I bought it for my mother and she had a proble...\n",
      "25                  Great Pocket PC / phone combination.\n",
      "26     I've owned this phone for 7 months now and can...\n",
      "27     I didn't think that the instructions provided ...\n",
      "28     People couldnt hear me talk and I had to pull ...\n",
      "29                                  Doesn't hold charge.\n",
      "                             ...                        \n",
      "970    I plugged it in only to find out not a darn th...\n",
      "971                                   Excellent product.\n",
      "972                          Earbud piece breaks easily.\n",
      "973                                       Lousy product.\n",
      "974    This phone tries very hard to do everything bu...\n",
      "975    It is the best charger I have seen on the mark...\n",
      "976                                    SWEETEST PHONE!!!\n",
      "977               :-)Oh, the charger seems to work fine.\n",
      "978    It fits so securely that the ear hook does not...\n",
      "979                                   Not enough volume.\n",
      "980                  Echo Problem....Very unsatisfactory\n",
      "981    you could only take 2 videos at a time and the...\n",
      "982                              don't waste your money.\n",
      "983    I am going to have to be the first to negative...\n",
      "984    Adapter does not provide enough charging current.\n",
      "985    There was so much hype over this phone that I ...\n",
      "986    You also cannot take pictures with it in the c...\n",
      "987                              Phone falls out easily.\n",
      "988    It didn't work, people can not hear me when I ...\n",
      "989    The text messaging feature is really tricky to...\n",
      "990    I'm really disappointed all I have now is a ch...\n",
      "991                                  Painful on the ear.\n",
      "992                     Lasted one day and then blew up.\n",
      "993                                        disappointed.\n",
      "994                                Kind of flops around.\n",
      "995    The screen does get smudged easily because it ...\n",
      "996    What a piece of junk.. I lose more calls on th...\n",
      "997                         Item Does Not Match Picture.\n",
      "998    The only thing that disappoint me is the infra...\n",
      "999    You can not answer calls with the unit, never ...\n",
      "Name: message, Length: 1000, dtype: object\n",
      "0                       way plug us unless go converter.\n",
      "1                            good case, excellent value.\n",
      "2                                         great jawbone.\n",
      "3      tied charger conversations lasting 45 minutes....\n",
      "4                                             mic great.\n",
      "5          jiggle plug get line right get decent volume.\n",
      "6      several dozen several hundred contacts, imagin...\n",
      "7                            razr owner...you must this!\n",
      "8                            needless say, wasted money.\n",
      "9                                     waste money time!.\n",
      "10                                  sound quality great.\n",
      "11     impressed going original battery extended batt...\n",
      "12     two seperated mere 5+ ft started notice excess...\n",
      "13                                   good quality though\n",
      "14               design odd, ear \"clip\" comfortable all.\n",
      "15                highly recommend one blue tooth phone.\n",
      "16                               advise everyone fooled!\n",
      "17                                            far good!.\n",
      "18                                         works great!.\n",
      "19     clicks place way makes wonder long mechanism w...\n",
      "20     went motorola's website followed directions, c...\n",
      "21           bought use kindle fire absolutely loved it!\n",
      "22                               commercials misleading.\n",
      "23     yet run new battery two bars that's three days...\n",
      "24                        bought mother problem battery.\n",
      "25                  great pocket pc / phone combination.\n",
      "26     i've owned phone 7 months say it's best mobile...\n",
      "27        didn't think instructions provided helpful me.\n",
      "28     people couldnt hear talk pull earphone talk ph...\n",
      "29                                  doesn't hold charge.\n",
      "                             ...                        \n",
      "970                      plugged find darn thing worked.\n",
      "971                                   excellent product.\n",
      "972                          earbud piece breaks easily.\n",
      "973                                       lousy product.\n",
      "974    phone tries hard everything fails it's ability...\n",
      "975                        best charger seen market yet.\n",
      "976                                    sweetest phone!!!\n",
      "977                      :-)oh, charger seems work fine.\n",
      "978    fits securely ear hook even need used sound be...\n",
      "979                                       enough volume.\n",
      "980                  echo problem....very unsatisfactory\n",
      "981               could take 2 videos time quality poor.\n",
      "982                                   don't waste money.\n",
      "983               going first negatively review product.\n",
      "984             adapter provide enough charging current.\n",
      "985               much hype phone assumed best, mistake.\n",
      "986        also cannot take pictures case lense covered.\n",
      "987                                  phone falls easily.\n",
      "988                       didn't work, people hear talk.\n",
      "989            text messaging feature really tricky use.\n",
      "990        i'm really disappointed charger doesn't work.\n",
      "991                                         painful ear.\n",
      "992                              lasted one day blew up.\n",
      "993                                        disappointed.\n",
      "994                                   kind flops around.\n",
      "995          screen get smudged easily touches ear face.\n",
      "996                       piece junk.. lose calls phone.\n",
      "997                                  item match picture.\n",
      "998              thing disappoint infra red port (irda).\n",
      "999                answer calls unit, never worked once!\n",
      "Name: message, Length: 1000, dtype: object\n"
     ]
    }
   ],
   "source": [
    "%matplotlib inline\n",
    "import numpy as np\n",
    "import pandas as pd\n",
    "import scipy\n",
    "import sklearn\n",
    "import matplotlib.pyplot as plt\n",
    "import seaborn as sns\n",
    "data_path = (\"/Users/tongzhang/Downloads/sentiment labelled sentences/amazon_cells_labelled.txt\")\n",
    "review_raw = pd.read_csv(data_path, delimiter= '\\t', header=None)\n",
    "review_raw.columns = ['message', 'feedback']\n",
    "stop = stopwords.words('english')\n",
    "print(review_raw['message'])\n",
    "review_raw['message'] = review_raw['message'].apply(lambda x: [item.lower() for item in x.split() if item.lower() not in stop])\n",
    "review_raw['message'] = review_raw['message'].apply(lambda x: \" \".join(x))\n",
    "print(review_raw['message'])"
   ]
  },
  {
   "cell_type": "code",
   "execution_count": 110,
   "metadata": {},
   "outputs": [
    {
     "name": "stdout",
     "output_type": "stream",
     "text": [
      "Number of mislabeled points out of a total 1000 points : 384\n"
     ]
    }
   ],
   "source": [
    "keywords = ['good', 'must', 'great', 'impressed', 'recommend', 'ideal', 'nice','like','better','worked','very', 'new',\n",
    "            'don\\'t','works','excellent','best','love','well','bad','but','poor','not','disappointed']\n",
    "\n",
    "for key in keywords:\n",
    "    # Note that we add spaces around the key so that we're getting the word,\n",
    "    # not just pattern matching.\n",
    "    review_raw[str(key)] = review_raw.message.str.contains(\n",
    "        ' ' + str(key) + ' ',\n",
    "        case=False\n",
    "    )\n",
    "    \n",
    "data = review_raw[keywords]\n",
    "target = review_raw['feedback']\n",
    "\n",
    "\n",
    "# Our data is binary / boolean, so we're importing the Bernoulli classifier.\n",
    "from sklearn.naive_bayes import BernoulliNB\n",
    "\n",
    "# Instantiate our model and store it in a new variable.\n",
    "bnb = BernoulliNB()\n",
    "\n",
    "# Fit our model to the data.\n",
    "bnb.fit(data, target)\n",
    "\n",
    "# Classify, storing the result in a new variable.\n",
    "y_pred = bnb.predict(data)\n",
    "\n",
    "# Display our results.\n",
    "print(\"Number of mislabeled points out of a total {} points : {}\".format(\n",
    "    data.shape[0],\n",
    "    (target != y_pred).sum()\n",
    "))"
   ]
  },
  {
   "cell_type": "code",
   "execution_count": 111,
   "metadata": {},
   "outputs": [
    {
     "data": {
      "text/plain": [
       "array([[470,  30],\n",
       "       [354, 146]])"
      ]
     },
     "execution_count": 111,
     "metadata": {},
     "output_type": "execute_result"
    }
   ],
   "source": [
    "from sklearn.metrics import confusion_matrix\n",
    "confusion_matrix(target, y_pred) #calculate confusion matrix\n",
    "   "
   ]
  },
  {
   "cell_type": "code",
   "execution_count": 112,
   "metadata": {},
   "outputs": [
    {
     "data": {
      "text/plain": [
       "<matplotlib.axes._subplots.AxesSubplot at 0x128144978>"
      ]
     },
     "execution_count": 112,
     "metadata": {},
     "output_type": "execute_result"
    },
    {
     "data": {
      "image/png": "[encoded data removed]",
      "text/plain": [
       "<matplotlib.figure.Figure at 0x128159cc0>"
      ]
     },
     "metadata": {},
     "output_type": "display_data"
    }
   ],
   "source": [
    "sns.heatmap(review_raw.corr())"
   ]
  },
  {
   "cell_type": "code",
   "execution_count": 113,
   "metadata": {},
   "outputs": [
    {
     "data": {
      "text/plain": [
       "0.61515151515151512"
      ]
     },
     "execution_count": 113,
     "metadata": {},
     "output_type": "execute_result"
    }
   ],
   "source": [
    "# set holdout group\n",
    "from sklearn.model_selection import train_test_split\n",
    "X_train, X_test, y_train, y_test = train_test_split(data, target, test_size=0.33, random_state=42)\n",
    "bnb.score(X_test, y_test)"
   ]
  },
  {
   "cell_type": "code",
   "execution_count": 114,
   "metadata": {},
   "outputs": [
    {
     "data": {
      "text/plain": [
       "array([ 0.64 ,  0.605,  0.615,  0.59 ,  0.59 ])"
      ]
     },
     "execution_count": 114,
     "metadata": {},
     "output_type": "execute_result"
    }
   ],
   "source": [
    "# cross validation\n",
    "from sklearn.model_selection import cross_val_score\n",
    "scores = cross_val_score(bnb, data,target, cv=5)\n",
    "scores "
   ]
  },
  {
   "cell_type": "code",
   "execution_count": 115,
   "metadata": {
    "collapsed": true
   },
   "outputs": [],
   "source": [
    "# import nltk\n",
    "# from nltk.corpus import stopwords\n",
    "\n"
   ]
  },
  {
   "cell_type": "code",
   "execution_count": 116,
   "metadata": {},
   "outputs": [
    {
     "data": {
      "text/plain": [
       "'61.60%'"
      ]
     },
     "execution_count": 116,
     "metadata": {},
     "output_type": "execute_result"
    }
   ],
   "source": [
    "accuracy = 1-(target != y_pred).sum()/data.shape[0] #calculate accuracy rate\n",
    "'{:.2%}'.format(accuracy)\n"
   ]
  },
  {
   "cell_type": "code",
   "execution_count": 117,
   "metadata": {},
   "outputs": [
    {
     "data": {
      "text/plain": [
       "[('phone', 118),\n",
       " ('good', 66),\n",
       " ('great', 63),\n",
       " ('works', 43),\n",
       " ('battery', 39),\n",
       " ('sound', 35),\n",
       " ('one', 34),\n",
       " ('quality', 33),\n",
       " ('phone.', 33),\n",
       " ('would', 32),\n",
       " ('headset', 32),\n",
       " ('it.', 31),\n",
       " ('like', 30),\n",
       " (\"i've\", 28),\n",
       " (\"don't\", 28),\n",
       " ('use', 27),\n",
       " (\"it's\", 27),\n",
       " ('product', 27),\n",
       " ('really', 26),\n",
       " ('recommend', 24),\n",
       " ('-', 24),\n",
       " ('work', 23),\n",
       " ('get', 22),\n",
       " (\"i'm\", 22),\n",
       " ('excellent', 21),\n",
       " ('product.', 21),\n",
       " ('well', 20),\n",
       " ('love', 20),\n",
       " ('ear', 19),\n",
       " ('best', 19),\n",
       " ('nice', 19),\n",
       " ('2', 19),\n",
       " ('also', 19),\n",
       " ('even', 18),\n",
       " ('worked', 18),\n",
       " ('better', 18),\n",
       " ('great.', 17),\n",
       " ('bought', 17),\n",
       " ('new', 17),\n",
       " ('could', 16),\n",
       " (\"doesn't\", 16),\n",
       " ('car', 15),\n",
       " ('time', 15),\n",
       " ('first', 15),\n",
       " ('well.', 15),\n",
       " ('case', 15),\n",
       " ('bluetooth', 15),\n",
       " ('buy', 15),\n",
       " ('easy', 15),\n",
       " ('charger', 14),\n",
       " ('comfortable', 14),\n",
       " ('still', 14),\n",
       " ('happy', 14),\n",
       " ('waste', 13),\n",
       " ('two', 13),\n",
       " ('quality.', 13),\n",
       " ('reception', 13),\n",
       " ('got', 13),\n",
       " ('worst', 13),\n",
       " ('ever', 13),\n",
       " ('hear', 12),\n",
       " ('make', 12),\n",
       " ('enough', 12),\n",
       " ('price', 12),\n",
       " ('item', 12),\n",
       " ('much', 12),\n",
       " ('thing', 12),\n",
       " ('ear.', 12),\n",
       " ('piece', 12),\n",
       " ('cell', 12),\n",
       " ('used', 12),\n",
       " ('service.', 12),\n",
       " ('plug', 11),\n",
       " ('headset.', 11),\n",
       " ('makes', 11),\n",
       " ('use.', 11),\n",
       " ('fits', 11),\n",
       " ('bad', 11),\n",
       " ('charge', 11),\n",
       " ('long', 10),\n",
       " ('think', 10),\n",
       " ('people', 10),\n",
       " ('made', 10),\n",
       " ('motorola', 10),\n",
       " ('using', 10),\n",
       " (\"couldn't\", 10),\n",
       " ('price.', 10),\n",
       " ('highly', 9),\n",
       " ('poor', 9),\n",
       " ('camera', 9),\n",
       " ('calls', 9),\n",
       " ('pretty', 9),\n",
       " ('problems', 9),\n",
       " ('looks', 9),\n",
       " ('device', 9),\n",
       " ('work.', 9),\n",
       " ('lot', 9),\n",
       " ('customer', 9),\n",
       " ('working', 9),\n",
       " ('right', 8)]"
      ]
     },
     "execution_count": 117,
     "metadata": {},
     "output_type": "execute_result"
    }
   ],
   "source": [
    "from collections import Counter\n",
    "Counter(\" \".join(review_raw[\"message\"]).split()).most_common(100)"
   ]
  },
  {
   "cell_type": "code",
   "execution_count": null,
   "metadata": {
    "collapsed": true
   },
   "outputs": [],
   "source": []
  }
 ],
 "metadata": {
  "kernelspec": {
   "display_name": "Python 3",
   "language": "python",
   "name": "python3"
  },
  "language_info": {
   "codemirror_mode": {
    "name": "ipython",
    "version": 3
   },
   "file_extension": ".py",
   "mimetype": "text/x-python",
   "name": "python",
   "nbconvert_exporter": "python",
   "pygments_lexer": "ipython3",
   "version": "3.6.1"
  }
 },
 "nbformat": 4,
 "nbformat_minor": 2
}
