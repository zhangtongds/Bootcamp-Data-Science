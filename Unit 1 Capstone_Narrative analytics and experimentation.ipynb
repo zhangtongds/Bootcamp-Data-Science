{
 "cells": [
  {
   "cell_type": "markdown",
   "metadata": {},
   "source": [
    "According to Tom Fawcett, as information is now widely available, it leds to increasing interest in methods for extracting useful information and knowledge from data.in this analysis, we are looking at how the workd happiness score is measured, the factors that influence the happiness score in 2015, 2016 and 2017. \n",
    "\n",
    "<h1>The Problem</h1>\n",
    "\n",
    "How to increase happiness level?\n",
    "In this experiment, the happiness level is measured by the happiness score. The experiment is aiming at finding out how the factors in dataset affect the happiness scores. The factors are:Economy, Family, Health, Freedom, Trust and Generosity.\n",
    "Data can be found at:\n",
    "https://www.kaggle.com/unsdsn/world-happiness\n",
    "\n",
    "<h1>Potential Solution</h1>\n",
    "\n",
    "1. GDP will positively influence the happiness score.\n",
    "2. Freedom will positively influence the happiness score.\n",
    "2. Life Expectancy will positively influence the happiness score.\n",
    "\n",
    "<h1>The method of testing the solution</h1>\n",
    "\n",
    "Design survey - Design surveys that covers all information needed to build the dataset/do the calculation, make sure questions can quantify those six factors that can be calculated for future use.\n",
    "\n",
    "Select sample - Randomly select equal number of people from each country, select same number/% population of people from each group aged 0-10,10-20,20-30, 30-40,40-50,50-60,60-70,70-80,>80. Make sure the numbers of male and female are equal. It is good to take samples as a percentage of the whole population. \n",
    "\n",
    "After the samples are selected, ask them to do the survey, survey should be completed within the same time, the format should be diversified (electronic/paper copies).\n",
    "\n",
    "The experiment - The first phase do 10% of them to see how the data goes, then do another 50%, finally 40%.\n",
    "\n",
    "Get results - Collect the results, do the analysis and complete the dataset.\n",
    "\n"
   ]
  },
  {
   "cell_type": "code",
   "execution_count": 34,
   "metadata": {
    "collapsed": false
   },
   "outputs": [
    {
     "data": {
      "text/html": [
       "<div>\n",
       "<table border=\"1\" class=\"dataframe\">\n",
       "  <thead>\n",
       "    <tr style=\"text-align: right;\">\n",
       "      <th></th>\n",
       "      <th>Country</th>\n",
       "      <th>Happiness.Rank</th>\n",
       "      <th>Happiness.Score</th>\n",
       "      <th>Whisker.high</th>\n",
       "      <th>Whisker.low</th>\n",
       "      <th>Economy..GDP.per.Capita.</th>\n",
       "      <th>Family</th>\n",
       "      <th>Health..Life.Expectancy.</th>\n",
       "      <th>Freedom</th>\n",
       "      <th>Generosity</th>\n",
       "      <th>Trust..Government.Corruption.</th>\n",
       "      <th>Dystopia.Residual</th>\n",
       "    </tr>\n",
       "  </thead>\n",
       "  <tbody>\n",
       "    <tr>\n",
       "      <th>0</th>\n",
       "      <td>Norway</td>\n",
       "      <td>1</td>\n",
       "      <td>7.537</td>\n",
       "      <td>7.594445</td>\n",
       "      <td>7.479556</td>\n",
       "      <td>1.616463</td>\n",
       "      <td>1.533524</td>\n",
       "      <td>0.796667</td>\n",
       "      <td>0.635423</td>\n",
       "      <td>0.362012</td>\n",
       "      <td>0.315964</td>\n",
       "      <td>2.277027</td>\n",
       "    </tr>\n",
       "    <tr>\n",
       "      <th>1</th>\n",
       "      <td>Denmark</td>\n",
       "      <td>2</td>\n",
       "      <td>7.522</td>\n",
       "      <td>7.581728</td>\n",
       "      <td>7.462272</td>\n",
       "      <td>1.482383</td>\n",
       "      <td>1.551122</td>\n",
       "      <td>0.792566</td>\n",
       "      <td>0.626007</td>\n",
       "      <td>0.355280</td>\n",
       "      <td>0.400770</td>\n",
       "      <td>2.313707</td>\n",
       "    </tr>\n",
       "    <tr>\n",
       "      <th>2</th>\n",
       "      <td>Iceland</td>\n",
       "      <td>3</td>\n",
       "      <td>7.504</td>\n",
       "      <td>7.622030</td>\n",
       "      <td>7.385970</td>\n",
       "      <td>1.480633</td>\n",
       "      <td>1.610574</td>\n",
       "      <td>0.833552</td>\n",
       "      <td>0.627163</td>\n",
       "      <td>0.475540</td>\n",
       "      <td>0.153527</td>\n",
       "      <td>2.322715</td>\n",
       "    </tr>\n",
       "    <tr>\n",
       "      <th>3</th>\n",
       "      <td>Switzerland</td>\n",
       "      <td>4</td>\n",
       "      <td>7.494</td>\n",
       "      <td>7.561772</td>\n",
       "      <td>7.426227</td>\n",
       "      <td>1.564980</td>\n",
       "      <td>1.516912</td>\n",
       "      <td>0.858131</td>\n",
       "      <td>0.620071</td>\n",
       "      <td>0.290549</td>\n",
       "      <td>0.367007</td>\n",
       "      <td>2.276716</td>\n",
       "    </tr>\n",
       "    <tr>\n",
       "      <th>4</th>\n",
       "      <td>Finland</td>\n",
       "      <td>5</td>\n",
       "      <td>7.469</td>\n",
       "      <td>7.527542</td>\n",
       "      <td>7.410458</td>\n",
       "      <td>1.443572</td>\n",
       "      <td>1.540247</td>\n",
       "      <td>0.809158</td>\n",
       "      <td>0.617951</td>\n",
       "      <td>0.245483</td>\n",
       "      <td>0.382612</td>\n",
       "      <td>2.430182</td>\n",
       "    </tr>\n",
       "  </tbody>\n",
       "</table>\n",
       "</div>"
      ],
      "text/plain": [
       "       Country  Happiness.Rank  Happiness.Score  Whisker.high  Whisker.low  \\\n",
       "0       Norway               1            7.537      7.594445     7.479556   \n",
       "1      Denmark               2            7.522      7.581728     7.462272   \n",
       "2      Iceland               3            7.504      7.622030     7.385970   \n",
       "3  Switzerland               4            7.494      7.561772     7.426227   \n",
       "4      Finland               5            7.469      7.527542     7.410458   \n",
       "\n",
       "   Economy..GDP.per.Capita.    Family  Health..Life.Expectancy.   Freedom  \\\n",
       "0                  1.616463  1.533524                  0.796667  0.635423   \n",
       "1                  1.482383  1.551122                  0.792566  0.626007   \n",
       "2                  1.480633  1.610574                  0.833552  0.627163   \n",
       "3                  1.564980  1.516912                  0.858131  0.620071   \n",
       "4                  1.443572  1.540247                  0.809158  0.617951   \n",
       "\n",
       "   Generosity  Trust..Government.Corruption.  Dystopia.Residual  \n",
       "0    0.362012                       0.315964           2.277027  \n",
       "1    0.355280                       0.400770           2.313707  \n",
       "2    0.475540                       0.153527           2.322715  \n",
       "3    0.290549                       0.367007           2.276716  \n",
       "4    0.245483                       0.382612           2.430182  "
      ]
     },
     "execution_count": 34,
     "metadata": {},
     "output_type": "execute_result"
    }
   ],
   "source": [
    "import matplotlib.pyplot as plt\n",
    "import numpy as np\n",
    "import pandas as pd\n",
    "import seaborn as sns\n",
    "from sklearn.manifold import TSNE\n",
    "\n",
    "%matplotlib inline\n",
    "df = pd.read_csv('/Users/zhangtong/Downloads/world-happiness-report/2017.csv')\n",
    "df.head()\n",
    "\n"
   ]
  },
  {
   "cell_type": "code",
   "execution_count": 40,
   "metadata": {
    "collapsed": false
   },
   "outputs": [],
   "source": [
    "data_2016 = pd.read_csv('/Users/zhangtong/Downloads/world-happiness-report/2016.csv')\n",
    "data_2015 = pd.read_csv('/Users/zhangtong/Downloads/world-happiness-report/2015.csv')\n",
    "\n",
    "data_2016 = data_2016.loc[data_2016['Country'] == 'China']\n",
    "data_2015 = data_2015.loc[data_2015['Country'] == 'China']\n",
    "\n",
    "data_2016 = data_2016.ix[:, 6:]\n",
    "data_2015 = data_2015.ix[:, 5:]\n",
    "\n",
    "columns = tuple(data_2016.dtypes.index)\n",
    "\n",
    "data_2015 = data_2015.ix[:, :].values\n",
    "data_2016 = data_2016.ix[:, :].values\n"
   ]
  },
  {
   "cell_type": "code",
   "execution_count": 41,
   "metadata": {
    "collapsed": false
   },
   "outputs": [
    {
     "data": {
      "image/png": "[encoded data removed]",
      "text/plain": [
       "<matplotlib.figure.Figure at 0x116eb46d8>"
      ]
     },
     "metadata": {},
     "output_type": "display_data"
    }
   ],
   "source": [
    "N = data_2015[0, :].shape[0]\n",
    "\n",
    "from pylab import rcParams\n",
    "rcParams['figure.figsize'] = 14, 7\n",
    "\n",
    "ind = np.arange(N)\n",
    "width = 0.4\n",
    "fig, ax = plt.subplots()\n",
    "\n",
    "bar1 = ax.bar(ind, data_2015[0, :].tolist(), width, color = current_palette[1])\n",
    "bar2 = ax.bar(ind + width, data_2016[0, :].tolist(), width, color = current_palette[2])\n",
    "\n",
    "ax.set_ylabel('Scores')\n",
    "ax.set_title('Scores by Country Attributes')\n",
    "ax.set_xticks(ind + width / 2)\n",
    "ax.set_xticklabels(columns)\n",
    "\n",
    "ax.legend((bar1[0], bar2[0]), ('2015', '2016'), loc='upper center')\n",
    "\n",
    "plt.show()"
   ]
  },
  {
   "cell_type": "code",
   "execution_count": null,
   "metadata": {
    "collapsed": true
   },
   "outputs": [],
   "source": []
  }
 ],
 "metadata": {
  "kernelspec": {
   "display_name": "Python 3",
   "language": "python",
   "name": "python3"
  },
  "language_info": {
   "codemirror_mode": {
    "name": "ipython",
    "version": 3
   },
   "file_extension": ".py",
   "mimetype": "text/x-python",
   "name": "python",
   "nbconvert_exporter": "python",
   "pygments_lexer": "ipython3",
   "version": "3.6.0"
  }
 },
 "nbformat": 4,
 "nbformat_minor": 2
}
