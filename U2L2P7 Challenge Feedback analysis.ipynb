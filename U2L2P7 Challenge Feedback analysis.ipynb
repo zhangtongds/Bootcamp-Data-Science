{
 "cells": [
  {
   "cell_type": "code",
   "execution_count": 38,
   "metadata": {
    "collapsed": true
   },
   "outputs": [],
   "source": [
    "%matplotlib inline\n",
    "import numpy as np\n",
    "import pandas as pd\n",
    "import scipy\n",
    "import sklearn\n",
    "import matplotlib.pyplot as plt\n",
    "import seaborn as sns\n",
    "data_path = (\"/Users/tongzhang/Downloads/sentiment labelled sentences/amazon_cells_labelled.txt\")\n",
    "review_raw = pd.read_csv(data_path, delimiter= '\\t', header=None)\n",
    "review_raw.columns = ['message', 'feedback']"
   ]
  },
  {
   "cell_type": "code",
   "execution_count": 39,
   "metadata": {},
   "outputs": [
    {
     "name": "stdout",
     "output_type": "stream",
     "text": [
      "Number of mislabeled points out of a total 1000 points : 328\n"
     ]
    }
   ],
   "source": [
    "keywords = ['good', 'must', 'great', 'impressed', 'recommend', 'ideal', 'nice','like','better','worked','very', 'new','don\\'t','works','excellent','best','love','well','bad','but','poor','not','disappointed']\n",
    "\n",
    "for key in keywords:\n",
    "    # Note that we add spaces around the key so that we're getting the word,\n",
    "    # not just pattern matching.\n",
    "    review_raw[str(key)] = review_raw.message.str.contains(\n",
    "        ' ' + str(key) + ' ',\n",
    "        case=False\n",
    "    )\n",
    "data = review_raw[keywords]\n",
    "target = review_raw['feedback']\n",
    "\n",
    "# Our data is binary / boolean, so we're importing the Bernoulli classifier.\n",
    "from sklearn.naive_bayes import BernoulliNB\n",
    "\n",
    "# Instantiate our model and store it in a new variable.\n",
    "bnb = BernoulliNB()\n",
    "\n",
    "# Fit our model to the data.\n",
    "bnb.fit(data, target)\n",
    "\n",
    "# Classify, storing the result in a new variable.\n",
    "y_pred = bnb.predict(data)\n",
    "\n",
    "# Display our results.\n",
    "print(\"Number of mislabeled points out of a total {} points : {}\".format(\n",
    "    data.shape[0],\n",
    "    (target != y_pred).sum()\n",
    "))"
   ]
  },
  {
   "cell_type": "code",
   "execution_count": 48,
   "metadata": {},
   "outputs": [
    {
     "data": {
      "text/plain": [
       "'67.20%'"
      ]
     },
     "execution_count": 48,
     "metadata": {},
     "output_type": "execute_result"
    }
   ],
   "source": [
    "accuracy = 1-(target != y_pred).sum()/data.shape[0] #calculate accuracy rate\n",
    "'{:.2%}'.format(accuracy)\n"
   ]
  },
  {
   "cell_type": "code",
   "execution_count": 51,
   "metadata": {},
   "outputs": [
    {
     "data": {
      "text/plain": [
       "0.67272727272727273"
      ]
     },
     "execution_count": 51,
     "metadata": {},
     "output_type": "execute_result"
    }
   ],
   "source": [
    "from sklearn.metrics import confusion_matrix\n",
    "confusion_matrix(target, y_pred) #calculate confusion matrix\n",
    "   "
   ]
  },
  {
   "cell_type": "code",
   "execution_count": 43,
   "metadata": {},
   "outputs": [
    {
     "data": {
      "text/plain": [
       "<matplotlib.axes._subplots.AxesSubplot at 0x11b2032b0>"
      ]
     },
     "execution_count": 43,
     "metadata": {},
     "output_type": "execute_result"
    },
    {
     "data": {
      "image/png": "[encoded data removed]",
      "text/plain": [
       "<matplotlib.figure.Figure at 0x10d0c8b38>"
      ]
     },
     "metadata": {},
     "output_type": "display_data"
    }
   ],
   "source": [
    "sns.heatmap(review_raw.corr())"
   ]
  },
  {
   "cell_type": "code",
   "execution_count": 52,
   "metadata": {},
   "outputs": [
    {
     "data": {
      "text/plain": [
       "0.67272727272727273"
      ]
     },
     "execution_count": 52,
     "metadata": {},
     "output_type": "execute_result"
    }
   ],
   "source": [
    "# set holdout group\n",
    "from sklearn.model_selection import train_test_split\n",
    "X_train, X_test, y_train, y_test = train_test_split(data, target, test_size=0.33, random_state=42)\n",
    "bnb.score(X_test, y_test)"
   ]
  },
  {
   "cell_type": "code",
   "execution_count": 53,
   "metadata": {},
   "outputs": [
    {
     "data": {
      "text/plain": [
       "array([ 0.68 ,  0.66 ,  0.68 ,  0.67 ,  0.635])"
      ]
     },
     "execution_count": 53,
     "metadata": {},
     "output_type": "execute_result"
    }
   ],
   "source": [
    "from sklearn.model_selection import cross_val_score\n",
    "scores = cross_val_score(bnb, data,target, cv=5)\n",
    "scores "
   ]
  },
  {
   "cell_type": "code",
   "execution_count": 42,
   "metadata": {},
   "outputs": [
    {
     "data": {
      "text/plain": [
       "[('the', 414),\n",
       " ('and', 307),\n",
       " ('I', 303),\n",
       " ('is', 238),\n",
       " ('a', 207),\n",
       " ('to', 195),\n",
       " ('it', 176),\n",
       " ('this', 143),\n",
       " ('my', 130),\n",
       " ('of', 117),\n",
       " ('for', 114),\n",
       " ('phone', 110),\n",
       " ('with', 106),\n",
       " ('The', 97),\n",
       " ('not', 91),\n",
       " ('was', 87),\n",
       " ('on', 86),\n",
       " ('in', 84),\n",
       " ('very', 80),\n",
       " ('have', 72),\n",
       " ('that', 71),\n",
       " ('It', 61),\n",
       " ('good', 53),\n",
       " ('This', 53),\n",
       " ('you', 52),\n",
       " ('had', 43),\n",
       " ('as', 42),\n",
       " ('but', 41),\n",
       " ('are', 40),\n",
       " ('has', 33),\n",
       " ('great', 33),\n",
       " ('one', 32),\n",
       " ('sound', 32),\n",
       " ('quality', 32),\n",
       " ('from', 32),\n",
       " ('your', 32),\n",
       " ('so', 32),\n",
       " ('it.', 31),\n",
       " ('Great', 30),\n",
       " ('would', 30),\n",
       " ('like', 30),\n",
       " ('headset', 29),\n",
       " ('phone.', 28),\n",
       " (\"I've\", 28),\n",
       " ('works', 28),\n",
       " ('than', 27),\n",
       " ('battery', 27),\n",
       " ('all', 27),\n",
       " ('use', 27),\n",
       " ('be', 25),\n",
       " ('recommend', 24),\n",
       " ('product', 24),\n",
       " ('-', 24),\n",
       " ('or', 23),\n",
       " ('at', 23),\n",
       " ('work', 23),\n",
       " ('get', 22),\n",
       " ('really', 22),\n",
       " ('up', 21),\n",
       " ('when', 20),\n",
       " ('out', 20),\n",
       " ('product.', 20),\n",
       " ('only', 20),\n",
       " (\"I'm\", 20),\n",
       " ('am', 20),\n",
       " ('no', 19),\n",
       " ('me', 19),\n",
       " ('ear', 19),\n",
       " ('any', 19),\n",
       " ('2', 19),\n",
       " ('can', 18),\n",
       " ('well', 18),\n",
       " ('about', 18),\n",
       " ('an', 18),\n",
       " ('great.', 17),\n",
       " ('Very', 17),\n",
       " ('just', 17),\n",
       " ('even', 17),\n",
       " ('after', 17),\n",
       " ('because', 17),\n",
       " (\"don't\", 17),\n",
       " ('if', 17),\n",
       " ('bought', 16),\n",
       " ('does', 16),\n",
       " ('love', 16),\n",
       " ('Works', 15),\n",
       " ('could', 15),\n",
       " ('new', 15),\n",
       " ('best', 15),\n",
       " ('well.', 15),\n",
       " ('Not', 15),\n",
       " ('been', 15),\n",
       " ('worked', 15),\n",
       " ('better', 15),\n",
       " ('also', 15),\n",
       " ('charger', 14),\n",
       " ('then', 14),\n",
       " ('car', 14),\n",
       " ('time', 14),\n",
       " ('case', 14)]"
      ]
     },
     "execution_count": 42,
     "metadata": {},
     "output_type": "execute_result"
    }
   ],
   "source": [
    "from collections import Counter\n",
    "Counter(\" \".join(review_raw[\"message\"]).split()).most_common(100)"
   ]
  },
  {
   "cell_type": "code",
   "execution_count": null,
   "metadata": {
    "collapsed": true
   },
   "outputs": [],
   "source": []
  }
 ],
 "metadata": {
  "kernelspec": {
   "display_name": "Python 3",
   "language": "python",
   "name": "python3"
  },
  "language_info": {
   "codemirror_mode": {
    "name": "ipython",
    "version": 3
   },
   "file_extension": ".py",
   "mimetype": "text/x-python",
   "name": "python",
   "nbconvert_exporter": "python",
   "pygments_lexer": "ipython3",
   "version": "3.6.1"
  }
 },
 "nbformat": 4,
 "nbformat_minor": 2
}
